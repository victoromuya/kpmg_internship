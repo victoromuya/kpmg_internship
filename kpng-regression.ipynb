{
 "cells": [
  {
   "cell_type": "code",
   "execution_count": 24,
   "id": "c175a9dd",
   "metadata": {},
   "outputs": [],
   "source": [
    "import pandas as pd\n",
    "import matplotlib.pyplot as plt\n",
    "import pandas as pd"
   ]
  },
  {
   "cell_type": "code",
   "execution_count": 25,
   "id": "bd44b359",
   "metadata": {},
   "outputs": [],
   "source": [
    "#Transaction = pd.read_excel('kpmg.xlsx', sheet_name = \"Transactions\")"
   ]
  },
  {
   "cell_type": "code",
   "execution_count": 26,
   "id": "d8d1c11f",
   "metadata": {},
   "outputs": [],
   "source": [
    "CustomerDemo = pd.read_excel('kpmg.xlsx', sheet_name = \"CustomerDemographic\")\n",
    "CustomerAddress = pd.read_excel('kpmg.xlsx', sheet_name = \"CustomerAddress\")"
   ]
  },
  {
   "cell_type": "code",
   "execution_count": 27,
   "id": "255ac6fb",
   "metadata": {},
   "outputs": [],
   "source": [
    "final = pd.merge(CustomerDemo, CustomerAddress, left_on = 'customer_id', right_on='customer_id', how='left')"
   ]
  },
  {
   "cell_type": "code",
   "execution_count": null,
   "id": "c56379cc",
   "metadata": {},
   "outputs": [],
   "source": []
  },
  {
   "cell_type": "code",
   "execution_count": 28,
   "id": "9761c20a",
   "metadata": {},
   "outputs": [],
   "source": [
    "final.drop(['customer_id','first_name','last_name',\"Unnamed: 12\",'deceased_indicator'], axis=1, inplace=True)"
   ]
  },
  {
   "cell_type": "code",
   "execution_count": 29,
   "id": "2ff5caf3",
   "metadata": {},
   "outputs": [
    {
     "data": {
      "text/plain": [
       "gender                                 0\n",
       "past_3_years_bike_related_purchases    0\n",
       "DOB                                    0\n",
       "job_title                              0\n",
       "job_industry_category                  0\n",
       "wealth_segment                         0\n",
       "owns_car                               0\n",
       "tenure                                 0\n",
       "address                                2\n",
       "postcode                               2\n",
       "state                                  2\n",
       "country                                2\n",
       "property_valuation                     2\n",
       "dtype: int64"
      ]
     },
     "execution_count": 29,
     "metadata": {},
     "output_type": "execute_result"
    }
   ],
   "source": [
    "final.isnull().sum()"
   ]
  },
  {
   "cell_type": "code",
   "execution_count": null,
   "id": "75648eb8",
   "metadata": {},
   "outputs": [],
   "source": []
  },
  {
   "cell_type": "code",
   "execution_count": 30,
   "id": "06beb15c",
   "metadata": {},
   "outputs": [],
   "source": [
    "final.drop(['country'], axis=1, inplace= True)"
   ]
  },
  {
   "cell_type": "code",
   "execution_count": 31,
   "id": "7cfa3a30",
   "metadata": {},
   "outputs": [],
   "source": [
    "final.dropna(inplace=True)"
   ]
  },
  {
   "cell_type": "code",
   "execution_count": 32,
   "id": "c29bca86",
   "metadata": {},
   "outputs": [
    {
     "name": "stdout",
     "output_type": "stream",
     "text": [
      "<class 'pandas.core.frame.DataFrame'>\n",
      "Int64Index: 2862 entries, 0 to 2863\n",
      "Data columns (total 12 columns):\n",
      " #   Column                               Non-Null Count  Dtype         \n",
      "---  ------                               --------------  -----         \n",
      " 0   gender                               2862 non-null   object        \n",
      " 1   past_3_years_bike_related_purchases  2862 non-null   int64         \n",
      " 2   DOB                                  2862 non-null   datetime64[ns]\n",
      " 3   job_title                            2862 non-null   object        \n",
      " 4   job_industry_category                2862 non-null   object        \n",
      " 5   wealth_segment                       2862 non-null   object        \n",
      " 6   owns_car                             2862 non-null   object        \n",
      " 7   tenure                               2862 non-null   int64         \n",
      " 8   address                              2862 non-null   object        \n",
      " 9   postcode                             2862 non-null   float64       \n",
      " 10  state                                2862 non-null   object        \n",
      " 11  property_valuation                   2862 non-null   float64       \n",
      "dtypes: datetime64[ns](1), float64(2), int64(2), object(7)\n",
      "memory usage: 290.7+ KB\n"
     ]
    }
   ],
   "source": [
    "final.info()"
   ]
  },
  {
   "cell_type": "code",
   "execution_count": 33,
   "id": "8a59c760",
   "metadata": {},
   "outputs": [],
   "source": [
    "from datetime import datetime"
   ]
  },
  {
   "cell_type": "code",
   "execution_count": 34,
   "id": "c008c074",
   "metadata": {},
   "outputs": [],
   "source": [
    "now = datetime.now()\n",
    "def age(x):\n",
    "    difference = now - x\n",
    "    agenow = difference.days // 365\n",
    "    return agenow"
   ]
  },
  {
   "cell_type": "code",
   "execution_count": 35,
   "id": "5907809d",
   "metadata": {},
   "outputs": [],
   "source": [
    "final['age'] = final['DOB'].apply(age)"
   ]
  },
  {
   "cell_type": "code",
   "execution_count": 36,
   "id": "b9978c78",
   "metadata": {},
   "outputs": [],
   "source": [
    "def age_group(x):\n",
    "    if x < 20:\n",
    "        return \"below_20\"\n",
    "    elif x >= 20 and x < 30:\n",
    "        return \"20-29\"\n",
    "    elif x >= 30 and x < 40 :\n",
    "        return '30-39'\n",
    "    elif x >= 40 and x < 50:\n",
    "        return '40-49'\n",
    "    elif x >= 50 and x < 60 :\n",
    "        return '50-59'\n",
    "    elif x >= 60 and x < 70:\n",
    "        return '60-69'\n",
    "    elif x >= 70:\n",
    "        return 'above_70'"
   ]
  },
  {
   "cell_type": "code",
   "execution_count": 37,
   "id": "16de0826",
   "metadata": {},
   "outputs": [],
   "source": [
    "final['age_group'] = final['age'].apply(age_group)"
   ]
  },
  {
   "cell_type": "code",
   "execution_count": 38,
   "id": "64de55b4",
   "metadata": {},
   "outputs": [],
   "source": [
    "final.drop(['DOB', 'age', 'address'], axis=1, inplace=True)"
   ]
  },
  {
   "cell_type": "code",
   "execution_count": 39,
   "id": "775e038c",
   "metadata": {},
   "outputs": [
    {
     "data": {
      "text/html": [
       "<div>\n",
       "<style scoped>\n",
       "    .dataframe tbody tr th:only-of-type {\n",
       "        vertical-align: middle;\n",
       "    }\n",
       "\n",
       "    .dataframe tbody tr th {\n",
       "        vertical-align: top;\n",
       "    }\n",
       "\n",
       "    .dataframe thead th {\n",
       "        text-align: right;\n",
       "    }\n",
       "</style>\n",
       "<table border=\"1\" class=\"dataframe\">\n",
       "  <thead>\n",
       "    <tr style=\"text-align: right;\">\n",
       "      <th></th>\n",
       "      <th>gender</th>\n",
       "      <th>past_3_years_bike_related_purchases</th>\n",
       "      <th>job_title</th>\n",
       "      <th>job_industry_category</th>\n",
       "      <th>wealth_segment</th>\n",
       "      <th>owns_car</th>\n",
       "      <th>tenure</th>\n",
       "      <th>postcode</th>\n",
       "      <th>state</th>\n",
       "      <th>property_valuation</th>\n",
       "      <th>age_group</th>\n",
       "    </tr>\n",
       "  </thead>\n",
       "  <tbody>\n",
       "    <tr>\n",
       "      <th>0</th>\n",
       "      <td>Female</td>\n",
       "      <td>93</td>\n",
       "      <td>Executive Secretary</td>\n",
       "      <td>Health</td>\n",
       "      <td>Mass Customer</td>\n",
       "      <td>Yes</td>\n",
       "      <td>11</td>\n",
       "      <td>2016.0</td>\n",
       "      <td>NSW</td>\n",
       "      <td>10.0</td>\n",
       "      <td>above_70</td>\n",
       "    </tr>\n",
       "    <tr>\n",
       "      <th>1</th>\n",
       "      <td>Male</td>\n",
       "      <td>81</td>\n",
       "      <td>Administrative Officer</td>\n",
       "      <td>Financial Services</td>\n",
       "      <td>Mass Customer</td>\n",
       "      <td>Yes</td>\n",
       "      <td>16</td>\n",
       "      <td>2153.0</td>\n",
       "      <td>NSW</td>\n",
       "      <td>10.0</td>\n",
       "      <td>40-49</td>\n",
       "    </tr>\n",
       "  </tbody>\n",
       "</table>\n",
       "</div>"
      ],
      "text/plain": [
       "   gender  past_3_years_bike_related_purchases               job_title  \\\n",
       "0  Female                                   93     Executive Secretary   \n",
       "1    Male                                   81  Administrative Officer   \n",
       "\n",
       "  job_industry_category wealth_segment owns_car  tenure  postcode state  \\\n",
       "0                Health  Mass Customer      Yes      11    2016.0   NSW   \n",
       "1    Financial Services  Mass Customer      Yes      16    2153.0   NSW   \n",
       "\n",
       "   property_valuation age_group  \n",
       "0                10.0  above_70  \n",
       "1                10.0     40-49  "
      ]
     },
     "execution_count": 39,
     "metadata": {},
     "output_type": "execute_result"
    }
   ],
   "source": [
    "final.head(2)"
   ]
  },
  {
   "cell_type": "code",
   "execution_count": 40,
   "id": "78a715c8",
   "metadata": {},
   "outputs": [],
   "source": [
    "def wealth(x):\n",
    "    if x == 'Mass Customer':\n",
    "        return 1\n",
    "    elif x == 'Affluent Customer':\n",
    "        return 2\n",
    "    elif x == 'High Net Worth':\n",
    "        return 3\n",
    "final['wealth_segment'] = final['wealth_segment'].apply(wealth)"
   ]
  },
  {
   "cell_type": "code",
   "execution_count": 41,
   "id": "be89982e",
   "metadata": {},
   "outputs": [],
   "source": [
    "final['rank'] = final[['property_valuation', 'wealth_segment', 'tenure',\\\n",
    "                       'past_3_years_bike_related_purchases']].apply(tuple, axis=1).rank(method='dense', ascending=False).astype(int)"
   ]
  },
  {
   "cell_type": "code",
   "execution_count": 42,
   "id": "61b96e53",
   "metadata": {},
   "outputs": [
    {
     "data": {
      "text/plain": [
       "<AxesSubplot:>"
      ]
     },
     "execution_count": 42,
     "metadata": {},
     "output_type": "execute_result"
    },
    {
     "data": {
      "image/png": "[encoded data removed]",
      "text/plain": [
       "<Figure size 1440x720 with 2 Axes>"
      ]
     },
     "metadata": {
      "needs_background": "light"
     },
     "output_type": "display_data"
    }
   ],
   "source": [
    "corr_matrix = final.corr()\n",
    "plt.figure(figsize = (20,10))\n",
    "sns.heatmap(corr_matrix, annot=True)"
   ]
  },
  {
   "cell_type": "code",
   "execution_count": null,
   "id": "1e0319ef",
   "metadata": {},
   "outputs": [],
   "source": []
  },
  {
   "cell_type": "code",
   "execution_count": 43,
   "id": "e2b2fd4a",
   "metadata": {},
   "outputs": [
    {
     "data": {
      "text/html": [
       "<div>\n",
       "<style scoped>\n",
       "    .dataframe tbody tr th:only-of-type {\n",
       "        vertical-align: middle;\n",
       "    }\n",
       "\n",
       "    .dataframe tbody tr th {\n",
       "        vertical-align: top;\n",
       "    }\n",
       "\n",
       "    .dataframe thead th {\n",
       "        text-align: right;\n",
       "    }\n",
       "</style>\n",
       "<table border=\"1\" class=\"dataframe\">\n",
       "  <thead>\n",
       "    <tr style=\"text-align: right;\">\n",
       "      <th></th>\n",
       "      <th>past_3_years_bike_related_purchases</th>\n",
       "      <th>job_title</th>\n",
       "      <th>job_industry_category</th>\n",
       "      <th>wealth_segment</th>\n",
       "      <th>tenure</th>\n",
       "      <th>postcode</th>\n",
       "      <th>property_valuation</th>\n",
       "      <th>rank</th>\n",
       "      <th>gender_Female</th>\n",
       "      <th>gender_Male</th>\n",
       "      <th>...</th>\n",
       "      <th>owns_car_Yes</th>\n",
       "      <th>age_group_20-29</th>\n",
       "      <th>age_group_30-39</th>\n",
       "      <th>age_group_40-49</th>\n",
       "      <th>age_group_50-59</th>\n",
       "      <th>age_group_60-69</th>\n",
       "      <th>age_group_above_70</th>\n",
       "      <th>state_NSW</th>\n",
       "      <th>state_QLD</th>\n",
       "      <th>state_VIC</th>\n",
       "    </tr>\n",
       "  </thead>\n",
       "  <tbody>\n",
       "    <tr>\n",
       "      <th>0</th>\n",
       "      <td>93</td>\n",
       "      <td>Executive Secretary</td>\n",
       "      <td>Health</td>\n",
       "      <td>1</td>\n",
       "      <td>11</td>\n",
       "      <td>2016.0</td>\n",
       "      <td>10.0</td>\n",
       "      <td>624</td>\n",
       "      <td>1</td>\n",
       "      <td>0</td>\n",
       "      <td>...</td>\n",
       "      <td>1</td>\n",
       "      <td>0</td>\n",
       "      <td>0</td>\n",
       "      <td>0</td>\n",
       "      <td>0</td>\n",
       "      <td>0</td>\n",
       "      <td>1</td>\n",
       "      <td>1</td>\n",
       "      <td>0</td>\n",
       "      <td>0</td>\n",
       "    </tr>\n",
       "    <tr>\n",
       "      <th>1</th>\n",
       "      <td>81</td>\n",
       "      <td>Administrative Officer</td>\n",
       "      <td>Financial Services</td>\n",
       "      <td>1</td>\n",
       "      <td>16</td>\n",
       "      <td>2153.0</td>\n",
       "      <td>10.0</td>\n",
       "      <td>581</td>\n",
       "      <td>0</td>\n",
       "      <td>1</td>\n",
       "      <td>...</td>\n",
       "      <td>1</td>\n",
       "      <td>0</td>\n",
       "      <td>0</td>\n",
       "      <td>1</td>\n",
       "      <td>0</td>\n",
       "      <td>0</td>\n",
       "      <td>0</td>\n",
       "      <td>1</td>\n",
       "      <td>0</td>\n",
       "      <td>0</td>\n",
       "    </tr>\n",
       "  </tbody>\n",
       "</table>\n",
       "<p>2 rows × 21 columns</p>\n",
       "</div>"
      ],
      "text/plain": [
       "   past_3_years_bike_related_purchases               job_title  \\\n",
       "0                                   93     Executive Secretary   \n",
       "1                                   81  Administrative Officer   \n",
       "\n",
       "  job_industry_category  wealth_segment  tenure  postcode  property_valuation  \\\n",
       "0                Health               1      11    2016.0                10.0   \n",
       "1    Financial Services               1      16    2153.0                10.0   \n",
       "\n",
       "   rank  gender_Female  gender_Male  ...  owns_car_Yes  age_group_20-29  \\\n",
       "0   624              1            0  ...             1                0   \n",
       "1   581              0            1  ...             1                0   \n",
       "\n",
       "   age_group_30-39  age_group_40-49  age_group_50-59  age_group_60-69  \\\n",
       "0                0                0                0                0   \n",
       "1                0                1                0                0   \n",
       "\n",
       "   age_group_above_70  state_NSW  state_QLD  state_VIC  \n",
       "0                   1          1          0          0  \n",
       "1                   0          1          0          0  \n",
       "\n",
       "[2 rows x 21 columns]"
      ]
     },
     "execution_count": 43,
     "metadata": {},
     "output_type": "execute_result"
    }
   ],
   "source": [
    "final =  pd.get_dummies(final, columns = ['gender','owns_car', 'age_group', 'state'])\n",
    "final.head(2)"
   ]
  },
  {
   "cell_type": "code",
   "execution_count": 44,
   "id": "a21f9608",
   "metadata": {},
   "outputs": [],
   "source": [
    "from sklearn.preprocessing import LabelEncoder\n",
    "le=LabelEncoder()\n",
    "\n",
    "final['job_title'] = le.fit_transform(final['job_title'])\n",
    "final['job_industry_category'] = le.fit_transform(final['job_industry_category'])\n",
    "# x['address'] = le.fit_transform(x['address'])\n",
    "# x['deceased_indicator'] = le.fit_transform(x['deceased_indicator'])\n",
    "# x['age_group'] = le.fit_transform(x['age_group'])"
   ]
  },
  {
   "cell_type": "code",
   "execution_count": 45,
   "id": "d212a30c",
   "metadata": {},
   "outputs": [
    {
     "data": {
      "text/html": [
       "<div>\n",
       "<style scoped>\n",
       "    .dataframe tbody tr th:only-of-type {\n",
       "        vertical-align: middle;\n",
       "    }\n",
       "\n",
       "    .dataframe tbody tr th {\n",
       "        vertical-align: top;\n",
       "    }\n",
       "\n",
       "    .dataframe thead th {\n",
       "        text-align: right;\n",
       "    }\n",
       "</style>\n",
       "<table border=\"1\" class=\"dataframe\">\n",
       "  <thead>\n",
       "    <tr style=\"text-align: right;\">\n",
       "      <th></th>\n",
       "      <th>past_3_years_bike_related_purchases</th>\n",
       "      <th>job_title</th>\n",
       "      <th>job_industry_category</th>\n",
       "      <th>wealth_segment</th>\n",
       "      <th>tenure</th>\n",
       "      <th>postcode</th>\n",
       "      <th>property_valuation</th>\n",
       "      <th>rank</th>\n",
       "      <th>gender_Female</th>\n",
       "      <th>gender_Male</th>\n",
       "      <th>...</th>\n",
       "      <th>owns_car_Yes</th>\n",
       "      <th>age_group_20-29</th>\n",
       "      <th>age_group_30-39</th>\n",
       "      <th>age_group_40-49</th>\n",
       "      <th>age_group_50-59</th>\n",
       "      <th>age_group_60-69</th>\n",
       "      <th>age_group_above_70</th>\n",
       "      <th>state_NSW</th>\n",
       "      <th>state_QLD</th>\n",
       "      <th>state_VIC</th>\n",
       "    </tr>\n",
       "  </thead>\n",
       "  <tbody>\n",
       "    <tr>\n",
       "      <th>2528</th>\n",
       "      <td>99</td>\n",
       "      <td>63</td>\n",
       "      <td>5</td>\n",
       "      <td>1</td>\n",
       "      <td>19</td>\n",
       "      <td>2171.0</td>\n",
       "      <td>9.0</td>\n",
       "      <td>948</td>\n",
       "      <td>0</td>\n",
       "      <td>1</td>\n",
       "      <td>...</td>\n",
       "      <td>1</td>\n",
       "      <td>0</td>\n",
       "      <td>1</td>\n",
       "      <td>0</td>\n",
       "      <td>0</td>\n",
       "      <td>0</td>\n",
       "      <td>0</td>\n",
       "      <td>1</td>\n",
       "      <td>0</td>\n",
       "      <td>0</td>\n",
       "    </tr>\n",
       "    <tr>\n",
       "      <th>1099</th>\n",
       "      <td>88</td>\n",
       "      <td>56</td>\n",
       "      <td>5</td>\n",
       "      <td>1</td>\n",
       "      <td>11</td>\n",
       "      <td>2261.0</td>\n",
       "      <td>8.0</td>\n",
       "      <td>1494</td>\n",
       "      <td>0</td>\n",
       "      <td>1</td>\n",
       "      <td>...</td>\n",
       "      <td>1</td>\n",
       "      <td>0</td>\n",
       "      <td>0</td>\n",
       "      <td>0</td>\n",
       "      <td>1</td>\n",
       "      <td>0</td>\n",
       "      <td>0</td>\n",
       "      <td>1</td>\n",
       "      <td>0</td>\n",
       "      <td>0</td>\n",
       "    </tr>\n",
       "  </tbody>\n",
       "</table>\n",
       "<p>2 rows × 21 columns</p>\n",
       "</div>"
      ],
      "text/plain": [
       "      past_3_years_bike_related_purchases  job_title  job_industry_category  \\\n",
       "2528                                   99         63                      5   \n",
       "1099                                   88         56                      5   \n",
       "\n",
       "      wealth_segment  tenure  postcode  property_valuation  rank  \\\n",
       "2528               1      19    2171.0                 9.0   948   \n",
       "1099               1      11    2261.0                 8.0  1494   \n",
       "\n",
       "      gender_Female  gender_Male  ...  owns_car_Yes  age_group_20-29  \\\n",
       "2528              0            1  ...             1                0   \n",
       "1099              0            1  ...             1                0   \n",
       "\n",
       "      age_group_30-39  age_group_40-49  age_group_50-59  age_group_60-69  \\\n",
       "2528                1                0                0                0   \n",
       "1099                0                0                1                0   \n",
       "\n",
       "      age_group_above_70  state_NSW  state_QLD  state_VIC  \n",
       "2528                   0          1          0          0  \n",
       "1099                   0          1          0          0  \n",
       "\n",
       "[2 rows x 21 columns]"
      ]
     },
     "execution_count": 45,
     "metadata": {},
     "output_type": "execute_result"
    }
   ],
   "source": [
    "final.sample(2)"
   ]
  },
  {
   "cell_type": "code",
   "execution_count": null,
   "id": "5f9e2ef6",
   "metadata": {},
   "outputs": [],
   "source": []
  },
  {
   "cell_type": "code",
   "execution_count": 46,
   "id": "25784979",
   "metadata": {},
   "outputs": [],
   "source": [
    "x = final.drop(['rank'], axis=1)\n",
    "y = pd.DataFrame(final['rank'], columns= ['rank'])"
   ]
  },
  {
   "cell_type": "code",
   "execution_count": 47,
   "id": "98c8bf42",
   "metadata": {},
   "outputs": [
    {
     "data": {
      "text/plain": [
       "Index(['past_3_years_bike_related_purchases', 'job_title',\n",
       "       'job_industry_category', 'wealth_segment', 'tenure', 'postcode',\n",
       "       'property_valuation', 'gender_Female', 'gender_Male', 'owns_car_No',\n",
       "       'owns_car_Yes', 'age_group_20-29', 'age_group_30-39', 'age_group_40-49',\n",
       "       'age_group_50-59', 'age_group_60-69', 'age_group_above_70', 'state_NSW',\n",
       "       'state_QLD', 'state_VIC'],\n",
       "      dtype='object')"
      ]
     },
     "execution_count": 47,
     "metadata": {},
     "output_type": "execute_result"
    }
   ],
   "source": [
    "x.columns"
   ]
  },
  {
   "cell_type": "markdown",
   "id": "90c5e85a",
   "metadata": {},
   "source": [
    "## MODEL "
   ]
  },
  {
   "cell_type": "code",
   "execution_count": 48,
   "id": "d07e6048",
   "metadata": {},
   "outputs": [],
   "source": [
    "import numpy as np\n",
    "import matplotlib.pyplot as plt\n",
    "import seaborn as sns\n",
    "from pandas.plotting import scatter_matrix\n",
    "from sklearn.metrics import r2_score\n",
    "from sklearn.metrics import mean_squared_error, mean_absolute_error\n",
    "from sklearn.linear_model import LinearRegression, Ridge, Lasso\n",
    "from sklearn.tree import DecisionTreeRegressor\n",
    "from sklearn.svm import SVR\n",
    "\n",
    "from sklearn.model_selection import train_test_split\n",
    "from sklearn.preprocessing import StandardScaler\n",
    "\n",
    "from sklearn.metrics import roc_curve\n",
    "from sklearn.metrics import roc_auc_score\n",
    "from sklearn.metrics import precision_recall_curve\n",
    "from sklearn.metrics import f1_score\n",
    "from sklearn.metrics import auc\n",
    "\n",
    "import warnings\n",
    "def ignore_warn(*args, **kwargs):\n",
    "    pass\n",
    "warnings.warn=ignore_warn"
   ]
  },
  {
   "cell_type": "code",
   "execution_count": 49,
   "id": "e544a386",
   "metadata": {},
   "outputs": [],
   "source": [
    "x_train,x_test,y_train,y_test= train_test_split(x,y,test_size=0.3, random_state=42)"
   ]
  },
  {
   "cell_type": "code",
   "execution_count": 50,
   "id": "9cf5c252",
   "metadata": {},
   "outputs": [],
   "source": [
    "sc = StandardScaler()\n",
    "x_train=sc.fit_transform(x_train)\n",
    "x_test=sc.transform(x_test)"
   ]
  },
  {
   "cell_type": "code",
   "execution_count": 51,
   "id": "97b823f4",
   "metadata": {},
   "outputs": [],
   "source": [
    "# from sklearn.preprocessing import PolynomialFeatures\n",
    "# pf = PolynomialFeatures(degree = 2, include_bias = False)\n",
    "# X_train_poly = pf.fit_transform(x_train)\n",
    "# X_test_poly = pf.fit_transform(x_test)"
   ]
  },
  {
   "cell_type": "code",
   "execution_count": 52,
   "id": "14c0c561",
   "metadata": {},
   "outputs": [],
   "source": [
    "# l2 = Ridge(alpha = 0.1).fit(X_train_poly, y_train)"
   ]
  },
  {
   "cell_type": "code",
   "execution_count": 53,
   "id": "ac7e41d5",
   "metadata": {},
   "outputs": [],
   "source": [
    "#l1 = Lasso(alpha = 0.001).fit(x_train, y_train)"
   ]
  },
  {
   "cell_type": "code",
   "execution_count": 54,
   "id": "5799e30b",
   "metadata": {},
   "outputs": [
    {
     "data": {
      "text/plain": [
       "DecisionTreeRegressor()"
      ]
     },
     "execution_count": 54,
     "metadata": {},
     "output_type": "execute_result"
    }
   ],
   "source": [
    "lr = DecisionTreeRegressor()\n",
    "lr.fit(x_train, y_train)"
   ]
  },
  {
   "cell_type": "code",
   "execution_count": 55,
   "id": "8a057b2f",
   "metadata": {},
   "outputs": [],
   "source": [
    "predicted = lr.predict(x_test)"
   ]
  },
  {
   "cell_type": "code",
   "execution_count": 56,
   "id": "8cd40093",
   "metadata": {},
   "outputs": [],
   "source": [
    "expected = y_test.iloc[:,0].values\n",
    "predict = predicted.flatten()"
   ]
  },
  {
   "cell_type": "code",
   "execution_count": null,
   "id": "8d8f34b0",
   "metadata": {},
   "outputs": [],
   "source": []
  },
  {
   "cell_type": "code",
   "execution_count": 57,
   "id": "4c90a3d2",
   "metadata": {},
   "outputs": [
    {
     "data": {
      "text/plain": [
       "10.777648428405122"
      ]
     },
     "execution_count": 57,
     "metadata": {},
     "output_type": "execute_result"
    }
   ],
   "source": [
    "mean_squared_error(expected, predict)"
   ]
  },
  {
   "cell_type": "code",
   "execution_count": 58,
   "id": "ecf0a381",
   "metadata": {},
   "outputs": [
    {
     "data": {
      "text/plain": [
       "0.999983156565994"
      ]
     },
     "execution_count": 58,
     "metadata": {},
     "output_type": "execute_result"
    }
   ],
   "source": [
    "r2_score(expected, predict)"
   ]
  },
  {
   "cell_type": "code",
   "execution_count": 59,
   "id": "adfec8b5",
   "metadata": {},
   "outputs": [],
   "source": [
    "ns_probs = [0 for _ in range(len(y_test))]\n",
    "lr_probs = lr.predict(x_test)\n",
    "lr_probs = lr_probs[:]"
   ]
  },
  {
   "cell_type": "code",
   "execution_count": null,
   "id": "34d1f29d",
   "metadata": {},
   "outputs": [],
   "source": []
  },
  {
   "cell_type": "code",
   "execution_count": 60,
   "id": "aa0943cb",
   "metadata": {},
   "outputs": [
    {
     "data": {
      "image/png": "[encoded data removed]",
      "text/plain": [
       "<Figure size 432x288 with 1 Axes>"
      ]
     },
     "metadata": {
      "needs_background": "light"
     },
     "output_type": "display_data"
    }
   ],
   "source": [
    "errors = list()\n",
    "for i in range(len(expected)):\n",
    "    \n",
    " # calculate error\n",
    "     err = (expected[i] - predict[i])**2\n",
    " # store error\n",
    "     errors.append(err)\n",
    " # report error\n",
    "#      print('>%.1f, %.1f = %.3f' % (expected[i], predicted[i], err))\n",
    "# plot errors\n",
    "plt.plot(errors)\n",
    "plt.xticks(ticks=[i for i in range(len(errors))], labels=predict)\n",
    "plt.xlabel('Predicted Value')\n",
    "plt.ylabel('Mean Squared Error')\n",
    "plt.show()"
   ]
  },
  {
   "cell_type": "markdown",
   "id": "f4520cf8",
   "metadata": {},
   "source": [
    "## USING NEW CUSTOMER DATASET"
   ]
  },
  {
   "cell_type": "code",
   "execution_count": 61,
   "id": "0acde6be",
   "metadata": {},
   "outputs": [],
   "source": [
    "new_customers = pd.read_excel('kpmg.xlsx', sheet_name = \"new_customer\")"
   ]
  },
  {
   "cell_type": "code",
   "execution_count": 62,
   "id": "43a5fbb9",
   "metadata": {},
   "outputs": [
    {
     "data": {
      "text/plain": [
       "Index(['Name', 'past_3_years_bike_related_purchases', 'job_title',\n",
       "       'job_industry_category', 'wealth_segment', 'tenure', 'postcode',\n",
       "       'property_valuation', 'gender', 'DOB', 'deceased_indicator', 'owns_car',\n",
       "       'state', 'address', 'country', 'Rank', 'Value'],\n",
       "      dtype='object')"
      ]
     },
     "execution_count": 62,
     "metadata": {},
     "output_type": "execute_result"
    }
   ],
   "source": [
    "new_customers.columns"
   ]
  },
  {
   "cell_type": "code",
   "execution_count": 63,
   "id": "97549378",
   "metadata": {},
   "outputs": [],
   "source": [
    "now = datetime.now()\n",
    "def age(x):\n",
    "    difference = now - x\n",
    "    agenow = difference.days // 365\n",
    "    return agenow"
   ]
  },
  {
   "cell_type": "code",
   "execution_count": 64,
   "id": "257befb9",
   "metadata": {},
   "outputs": [],
   "source": [
    "new_customers['age'] = new_customers['DOB'].apply(age)"
   ]
  },
  {
   "cell_type": "code",
   "execution_count": 65,
   "id": "f9f397cc",
   "metadata": {},
   "outputs": [],
   "source": [
    "def age_group(x):\n",
    "    if x < 20:\n",
    "        return \"below_20\"\n",
    "    elif x >= 20 and x < 30:\n",
    "        return \"20-29\"\n",
    "    elif x >= 30 and x < 40 :\n",
    "        return '30-39'\n",
    "    elif x >= 40 and x < 50:\n",
    "        return '40-49'\n",
    "    elif x >= 50 and x < 60 :\n",
    "        return '50-59'\n",
    "    elif x >= 60 and x < 70:\n",
    "        return '60-69'\n",
    "    elif x >= 70:\n",
    "        return 'above_70'"
   ]
  },
  {
   "cell_type": "code",
   "execution_count": 66,
   "id": "6733586b",
   "metadata": {},
   "outputs": [],
   "source": [
    "new_customers['age_group'] = new_customers['age'].apply(age_group)"
   ]
  },
  {
   "cell_type": "code",
   "execution_count": 67,
   "id": "e5ddb241",
   "metadata": {},
   "outputs": [],
   "source": [
    "for_model = new_customers.drop(['Name', 'DOB','address', 'country','Rank', 'Value', 'age', 'deceased_indicator'], axis =1)\n",
    "for_model.dropna(inplace=True)"
   ]
  },
  {
   "cell_type": "code",
   "execution_count": null,
   "id": "64426329",
   "metadata": {},
   "outputs": [],
   "source": []
  },
  {
   "cell_type": "code",
   "execution_count": null,
   "id": "3f131a5f",
   "metadata": {},
   "outputs": [],
   "source": []
  },
  {
   "cell_type": "code",
   "execution_count": 68,
   "id": "907663d7",
   "metadata": {},
   "outputs": [
    {
     "data": {
      "text/html": [
       "<div>\n",
       "<style scoped>\n",
       "    .dataframe tbody tr th:only-of-type {\n",
       "        vertical-align: middle;\n",
       "    }\n",
       "\n",
       "    .dataframe tbody tr th {\n",
       "        vertical-align: top;\n",
       "    }\n",
       "\n",
       "    .dataframe thead th {\n",
       "        text-align: right;\n",
       "    }\n",
       "</style>\n",
       "<table border=\"1\" class=\"dataframe\">\n",
       "  <thead>\n",
       "    <tr style=\"text-align: right;\">\n",
       "      <th></th>\n",
       "      <th>past_3_years_bike_related_purchases</th>\n",
       "      <th>job_title</th>\n",
       "      <th>job_industry_category</th>\n",
       "      <th>wealth_segment</th>\n",
       "      <th>tenure</th>\n",
       "      <th>postcode</th>\n",
       "      <th>property_valuation</th>\n",
       "      <th>gender_Female</th>\n",
       "      <th>gender_Male</th>\n",
       "      <th>owns_car_No</th>\n",
       "      <th>owns_car_Yes</th>\n",
       "      <th>age_group_20-29</th>\n",
       "      <th>age_group_30-39</th>\n",
       "      <th>age_group_40-49</th>\n",
       "      <th>age_group_50-59</th>\n",
       "      <th>age_group_60-69</th>\n",
       "      <th>age_group_above_70</th>\n",
       "      <th>state_NSW</th>\n",
       "      <th>state_QLD</th>\n",
       "      <th>state_VIC</th>\n",
       "    </tr>\n",
       "  </thead>\n",
       "  <tbody>\n",
       "    <tr>\n",
       "      <th>0</th>\n",
       "      <td>66</td>\n",
       "      <td>VP Sales</td>\n",
       "      <td>Health</td>\n",
       "      <td>Mass Customer</td>\n",
       "      <td>4</td>\n",
       "      <td>4211</td>\n",
       "      <td>3</td>\n",
       "      <td>1</td>\n",
       "      <td>0</td>\n",
       "      <td>0</td>\n",
       "      <td>1</td>\n",
       "      <td>1</td>\n",
       "      <td>0</td>\n",
       "      <td>0</td>\n",
       "      <td>0</td>\n",
       "      <td>0</td>\n",
       "      <td>0</td>\n",
       "      <td>0</td>\n",
       "      <td>1</td>\n",
       "      <td>0</td>\n",
       "    </tr>\n",
       "    <tr>\n",
       "      <th>1</th>\n",
       "      <td>52</td>\n",
       "      <td>Junior Executive</td>\n",
       "      <td>Financial Services</td>\n",
       "      <td>Affluent Customer</td>\n",
       "      <td>8</td>\n",
       "      <td>2025</td>\n",
       "      <td>12</td>\n",
       "      <td>0</td>\n",
       "      <td>1</td>\n",
       "      <td>1</td>\n",
       "      <td>0</td>\n",
       "      <td>1</td>\n",
       "      <td>0</td>\n",
       "      <td>0</td>\n",
       "      <td>0</td>\n",
       "      <td>0</td>\n",
       "      <td>0</td>\n",
       "      <td>1</td>\n",
       "      <td>0</td>\n",
       "      <td>0</td>\n",
       "    </tr>\n",
       "  </tbody>\n",
       "</table>\n",
       "</div>"
      ],
      "text/plain": [
       "   past_3_years_bike_related_purchases         job_title  \\\n",
       "0                                   66          VP Sales   \n",
       "1                                   52  Junior Executive   \n",
       "\n",
       "  job_industry_category     wealth_segment  tenure  postcode  \\\n",
       "0                Health      Mass Customer       4      4211   \n",
       "1    Financial Services  Affluent Customer       8      2025   \n",
       "\n",
       "   property_valuation  gender_Female  gender_Male  owns_car_No  owns_car_Yes  \\\n",
       "0                   3              1            0            0             1   \n",
       "1                  12              0            1            1             0   \n",
       "\n",
       "   age_group_20-29  age_group_30-39  age_group_40-49  age_group_50-59  \\\n",
       "0                1                0                0                0   \n",
       "1                1                0                0                0   \n",
       "\n",
       "   age_group_60-69  age_group_above_70  state_NSW  state_QLD  state_VIC  \n",
       "0                0                   0          0          1          0  \n",
       "1                0                   0          1          0          0  "
      ]
     },
     "execution_count": 68,
     "metadata": {},
     "output_type": "execute_result"
    }
   ],
   "source": [
    "for_model =  pd.get_dummies(for_model, columns = ['gender', 'owns_car', 'age_group', 'state'])\n",
    "for_model.head(2)"
   ]
  },
  {
   "cell_type": "code",
   "execution_count": 69,
   "id": "237a8165",
   "metadata": {},
   "outputs": [],
   "source": [
    "def wealth(x):\n",
    "    if x == 'Mass Customer':\n",
    "        return 1\n",
    "    elif x == 'Affluent Customer':\n",
    "        return 2\n",
    "    elif x == 'High Net Worth':\n",
    "        return 3\n",
    "    \n",
    "for_model['wealth_segment'] = for_model['wealth_segment'].apply(wealth)"
   ]
  },
  {
   "cell_type": "code",
   "execution_count": 70,
   "id": "06eb4737",
   "metadata": {},
   "outputs": [
    {
     "data": {
      "text/plain": [
       "Index(['past_3_years_bike_related_purchases', 'job_title',\n",
       "       'job_industry_category', 'wealth_segment', 'tenure', 'postcode',\n",
       "       'property_valuation', 'gender_Female', 'gender_Male', 'owns_car_No',\n",
       "       'owns_car_Yes', 'age_group_20-29', 'age_group_30-39', 'age_group_40-49',\n",
       "       'age_group_50-59', 'age_group_60-69', 'age_group_above_70', 'state_NSW',\n",
       "       'state_QLD', 'state_VIC'],\n",
       "      dtype='object')"
      ]
     },
     "execution_count": 70,
     "metadata": {},
     "output_type": "execute_result"
    }
   ],
   "source": [
    "le=LabelEncoder()\n",
    "\n",
    "for_model['job_title'] = le.fit_transform(for_model['job_title'])\n",
    "for_model['job_industry_category'] = le.fit_transform(for_model['job_industry_category'])\n",
    "for_model.columns"
   ]
  },
  {
   "cell_type": "code",
   "execution_count": 71,
   "id": "9af3d525",
   "metadata": {},
   "outputs": [],
   "source": [
    "for_model=sc.transform(for_model)"
   ]
  },
  {
   "cell_type": "code",
   "execution_count": 72,
   "id": "d09b5f2f",
   "metadata": {},
   "outputs": [],
   "source": [
    "new_customers_pred = lr.predict(for_model)"
   ]
  },
  {
   "cell_type": "code",
   "execution_count": null,
   "id": "4e4396bf",
   "metadata": {},
   "outputs": [],
   "source": []
  },
  {
   "cell_type": "code",
   "execution_count": 73,
   "id": "9d4c0326",
   "metadata": {},
   "outputs": [],
   "source": [
    "pred_df = pd.DataFrame(new_customers_pred, columns = ['Pred_Rank'])"
   ]
  },
  {
   "cell_type": "code",
   "execution_count": 74,
   "id": "73506c14",
   "metadata": {},
   "outputs": [],
   "source": [
    "new_data = new_customers.join(pred_df)"
   ]
  },
  {
   "cell_type": "code",
   "execution_count": 75,
   "id": "4404df23",
   "metadata": {},
   "outputs": [
    {
     "data": {
      "text/html": [
       "<div>\n",
       "<style scoped>\n",
       "    .dataframe tbody tr th:only-of-type {\n",
       "        vertical-align: middle;\n",
       "    }\n",
       "\n",
       "    .dataframe tbody tr th {\n",
       "        vertical-align: top;\n",
       "    }\n",
       "\n",
       "    .dataframe thead th {\n",
       "        text-align: right;\n",
       "    }\n",
       "</style>\n",
       "<table border=\"1\" class=\"dataframe\">\n",
       "  <thead>\n",
       "    <tr style=\"text-align: right;\">\n",
       "      <th></th>\n",
       "      <th>Name</th>\n",
       "      <th>past_3_years_bike_related_purchases</th>\n",
       "      <th>job_title</th>\n",
       "      <th>job_industry_category</th>\n",
       "      <th>wealth_segment</th>\n",
       "      <th>tenure</th>\n",
       "      <th>postcode</th>\n",
       "      <th>property_valuation</th>\n",
       "      <th>gender</th>\n",
       "      <th>DOB</th>\n",
       "      <th>deceased_indicator</th>\n",
       "      <th>owns_car</th>\n",
       "      <th>state</th>\n",
       "      <th>address</th>\n",
       "      <th>country</th>\n",
       "      <th>Rank</th>\n",
       "      <th>Value</th>\n",
       "      <th>age</th>\n",
       "      <th>age_group</th>\n",
       "      <th>Pred_Rank</th>\n",
       "    </tr>\n",
       "  </thead>\n",
       "  <tbody>\n",
       "    <tr>\n",
       "      <th>0</th>\n",
       "      <td>Lura Fawdrie</td>\n",
       "      <td>66</td>\n",
       "      <td>VP Sales</td>\n",
       "      <td>Health</td>\n",
       "      <td>Mass Customer</td>\n",
       "      <td>4</td>\n",
       "      <td>4211</td>\n",
       "      <td>3</td>\n",
       "      <td>Female</td>\n",
       "      <td>2002-01-17</td>\n",
       "      <td>N</td>\n",
       "      <td>Yes</td>\n",
       "      <td>QLD</td>\n",
       "      <td>67183 Anniversary Parkway</td>\n",
       "      <td>Australia</td>\n",
       "      <td>396</td>\n",
       "      <td>0.9375</td>\n",
       "      <td>22</td>\n",
       "      <td>20-29</td>\n",
       "      <td>2547.0</td>\n",
       "    </tr>\n",
       "    <tr>\n",
       "      <th>1</th>\n",
       "      <td>Simmonds Bapty</td>\n",
       "      <td>52</td>\n",
       "      <td>Junior Executive</td>\n",
       "      <td>Financial Services</td>\n",
       "      <td>Affluent Customer</td>\n",
       "      <td>8</td>\n",
       "      <td>2025</td>\n",
       "      <td>12</td>\n",
       "      <td>Male</td>\n",
       "      <td>2002-01-04</td>\n",
       "      <td>N</td>\n",
       "      <td>No</td>\n",
       "      <td>NSW</td>\n",
       "      <td>47 Susan Park</td>\n",
       "      <td>Australia</td>\n",
       "      <td>760</td>\n",
       "      <td>0.6375</td>\n",
       "      <td>22</td>\n",
       "      <td>20-29</td>\n",
       "      <td>57.0</td>\n",
       "    </tr>\n",
       "  </tbody>\n",
       "</table>\n",
       "</div>"
      ],
      "text/plain": [
       "             Name  past_3_years_bike_related_purchases         job_title  \\\n",
       "0    Lura Fawdrie                                   66          VP Sales   \n",
       "1  Simmonds Bapty                                   52  Junior Executive   \n",
       "\n",
       "  job_industry_category     wealth_segment  tenure  postcode  \\\n",
       "0                Health      Mass Customer       4      4211   \n",
       "1    Financial Services  Affluent Customer       8      2025   \n",
       "\n",
       "   property_valuation  gender        DOB deceased_indicator owns_car state  \\\n",
       "0                   3  Female 2002-01-17                  N      Yes   QLD   \n",
       "1                  12    Male 2002-01-04                  N       No   NSW   \n",
       "\n",
       "                     address    country  Rank   Value  age age_group  \\\n",
       "0  67183 Anniversary Parkway  Australia   396  0.9375   22     20-29   \n",
       "1              47 Susan Park  Australia   760  0.6375   22     20-29   \n",
       "\n",
       "   Pred_Rank  \n",
       "0     2547.0  \n",
       "1       57.0  "
      ]
     },
     "execution_count": 75,
     "metadata": {},
     "output_type": "execute_result"
    }
   ],
   "source": [
    "new_data.head(2)"
   ]
  },
  {
   "cell_type": "code",
   "execution_count": 81,
   "id": "022321af",
   "metadata": {},
   "outputs": [],
   "source": [
    "new_data['new_rank'] = new_data['Pred_Rank'].rank()"
   ]
  },
  {
   "cell_type": "code",
   "execution_count": 79,
   "id": "8bf0abd5",
   "metadata": {},
   "outputs": [
    {
     "data": {
      "text/html": [
       "<div>\n",
       "<style scoped>\n",
       "    .dataframe tbody tr th:only-of-type {\n",
       "        vertical-align: middle;\n",
       "    }\n",
       "\n",
       "    .dataframe tbody tr th {\n",
       "        vertical-align: top;\n",
       "    }\n",
       "\n",
       "    .dataframe thead th {\n",
       "        text-align: right;\n",
       "    }\n",
       "</style>\n",
       "<table border=\"1\" class=\"dataframe\">\n",
       "  <thead>\n",
       "    <tr style=\"text-align: right;\">\n",
       "      <th></th>\n",
       "      <th>Name</th>\n",
       "      <th>past_3_years_bike_related_purchases</th>\n",
       "      <th>job_title</th>\n",
       "      <th>job_industry_category</th>\n",
       "      <th>wealth_segment</th>\n",
       "      <th>tenure</th>\n",
       "      <th>postcode</th>\n",
       "      <th>property_valuation</th>\n",
       "      <th>gender</th>\n",
       "      <th>DOB</th>\n",
       "      <th>...</th>\n",
       "      <th>owns_car</th>\n",
       "      <th>state</th>\n",
       "      <th>address</th>\n",
       "      <th>country</th>\n",
       "      <th>Rank</th>\n",
       "      <th>Value</th>\n",
       "      <th>age</th>\n",
       "      <th>age_group</th>\n",
       "      <th>Pred_Rank</th>\n",
       "      <th>new_rank</th>\n",
       "    </tr>\n",
       "  </thead>\n",
       "  <tbody>\n",
       "    <tr>\n",
       "      <th>200</th>\n",
       "      <td>Meade Bampton</td>\n",
       "      <td>69</td>\n",
       "      <td>Health Coach III</td>\n",
       "      <td>Health</td>\n",
       "      <td>High Net Worth</td>\n",
       "      <td>17</td>\n",
       "      <td>2090</td>\n",
       "      <td>7</td>\n",
       "      <td>Male</td>\n",
       "      <td>1982-04-25</td>\n",
       "      <td>...</td>\n",
       "      <td>No</td>\n",
       "      <td>NSW</td>\n",
       "      <td>7870 Stuart Crossing</td>\n",
       "      <td>Australia</td>\n",
       "      <td>755</td>\n",
       "      <td>0.640000</td>\n",
       "      <td>41</td>\n",
       "      <td>40-49</td>\n",
       "      <td>1629.0</td>\n",
       "      <td>416.0</td>\n",
       "    </tr>\n",
       "    <tr>\n",
       "      <th>307</th>\n",
       "      <td>Rosene Beckey</td>\n",
       "      <td>25</td>\n",
       "      <td>Account Executive</td>\n",
       "      <td>Health</td>\n",
       "      <td>Mass Customer</td>\n",
       "      <td>14</td>\n",
       "      <td>2107</td>\n",
       "      <td>11</td>\n",
       "      <td>Female</td>\n",
       "      <td>1974-05-21</td>\n",
       "      <td>...</td>\n",
       "      <td>Yes</td>\n",
       "      <td>NSW</td>\n",
       "      <td>02463 Portage Center</td>\n",
       "      <td>Australia</td>\n",
       "      <td>801</td>\n",
       "      <td>0.597656</td>\n",
       "      <td>49</td>\n",
       "      <td>40-49</td>\n",
       "      <td>272.0</td>\n",
       "      <td>72.0</td>\n",
       "    </tr>\n",
       "    <tr>\n",
       "      <th>649</th>\n",
       "      <td>Darryl Hovee</td>\n",
       "      <td>2</td>\n",
       "      <td>Professor</td>\n",
       "      <td>Financial Services</td>\n",
       "      <td>Mass Customer</td>\n",
       "      <td>19</td>\n",
       "      <td>2047</td>\n",
       "      <td>12</td>\n",
       "      <td>Female</td>\n",
       "      <td>1944-04-28</td>\n",
       "      <td>...</td>\n",
       "      <td>Yes</td>\n",
       "      <td>NSW</td>\n",
       "      <td>381 Emmet Terrace</td>\n",
       "      <td>Australia</td>\n",
       "      <td>655</td>\n",
       "      <td>0.717187</td>\n",
       "      <td>79</td>\n",
       "      <td>above_70</td>\n",
       "      <td>75.0</td>\n",
       "      <td>19.5</td>\n",
       "    </tr>\n",
       "    <tr>\n",
       "      <th>15</th>\n",
       "      <td>Kippy Barabisch</td>\n",
       "      <td>11</td>\n",
       "      <td>Legal Assistant</td>\n",
       "      <td>Manufacturing</td>\n",
       "      <td>Mass Customer</td>\n",
       "      <td>4</td>\n",
       "      <td>2125</td>\n",
       "      <td>11</td>\n",
       "      <td>Male</td>\n",
       "      <td>2000-04-07</td>\n",
       "      <td>...</td>\n",
       "      <td>No</td>\n",
       "      <td>NSW</td>\n",
       "      <td>840 Graceland Street</td>\n",
       "      <td>Australia</td>\n",
       "      <td>215</td>\n",
       "      <td>1.128906</td>\n",
       "      <td>23</td>\n",
       "      <td>20-29</td>\n",
       "      <td>315.0</td>\n",
       "      <td>81.0</td>\n",
       "    </tr>\n",
       "    <tr>\n",
       "      <th>444</th>\n",
       "      <td>Abigale Sives</td>\n",
       "      <td>48</td>\n",
       "      <td>VP Marketing</td>\n",
       "      <td>Health</td>\n",
       "      <td>Affluent Customer</td>\n",
       "      <td>14</td>\n",
       "      <td>4207</td>\n",
       "      <td>4</td>\n",
       "      <td>Female</td>\n",
       "      <td>1963-12-13</td>\n",
       "      <td>...</td>\n",
       "      <td>Yes</td>\n",
       "      <td>QLD</td>\n",
       "      <td>2 Glendale Center</td>\n",
       "      <td>Australia</td>\n",
       "      <td>230</td>\n",
       "      <td>1.109375</td>\n",
       "      <td>60</td>\n",
       "      <td>60-69</td>\n",
       "      <td>2330.0</td>\n",
       "      <td>614.5</td>\n",
       "    </tr>\n",
       "  </tbody>\n",
       "</table>\n",
       "<p>5 rows × 21 columns</p>\n",
       "</div>"
      ],
      "text/plain": [
       "                Name  past_3_years_bike_related_purchases          job_title  \\\n",
       "200    Meade Bampton                                   69   Health Coach III   \n",
       "307    Rosene Beckey                                   25  Account Executive   \n",
       "649     Darryl Hovee                                    2          Professor   \n",
       "15   Kippy Barabisch                                   11    Legal Assistant   \n",
       "444    Abigale Sives                                   48       VP Marketing   \n",
       "\n",
       "    job_industry_category     wealth_segment  tenure  postcode  \\\n",
       "200                Health     High Net Worth      17      2090   \n",
       "307                Health      Mass Customer      14      2107   \n",
       "649    Financial Services      Mass Customer      19      2047   \n",
       "15          Manufacturing      Mass Customer       4      2125   \n",
       "444                Health  Affluent Customer      14      4207   \n",
       "\n",
       "     property_valuation  gender        DOB  ... owns_car state  \\\n",
       "200                   7    Male 1982-04-25  ...       No   NSW   \n",
       "307                  11  Female 1974-05-21  ...      Yes   NSW   \n",
       "649                  12  Female 1944-04-28  ...      Yes   NSW   \n",
       "15                   11    Male 2000-04-07  ...       No   NSW   \n",
       "444                   4  Female 1963-12-13  ...      Yes   QLD   \n",
       "\n",
       "                  address    country Rank     Value  age  age_group Pred_Rank  \\\n",
       "200  7870 Stuart Crossing  Australia  755  0.640000   41      40-49    1629.0   \n",
       "307  02463 Portage Center  Australia  801  0.597656   49      40-49     272.0   \n",
       "649     381 Emmet Terrace  Australia  655  0.717187   79   above_70      75.0   \n",
       "15   840 Graceland Street  Australia  215  1.128906   23      20-29     315.0   \n",
       "444     2 Glendale Center  Australia  230  1.109375   60      60-69    2330.0   \n",
       "\n",
       "     new_rank  \n",
       "200     416.0  \n",
       "307      72.0  \n",
       "649      19.5  \n",
       "15       81.0  \n",
       "444     614.5  \n",
       "\n",
       "[5 rows x 21 columns]"
      ]
     },
     "execution_count": 79,
     "metadata": {},
     "output_type": "execute_result"
    }
   ],
   "source": [
    "new_data.sample(5)"
   ]
  },
  {
   "cell_type": "code",
   "execution_count": 82,
   "id": "1406f8fb",
   "metadata": {},
   "outputs": [],
   "source": [
    "new_data.to_csv('predicted_data.csv', index=False)"
   ]
  },
  {
   "cell_type": "code",
   "execution_count": null,
   "id": "dc09f0cd",
   "metadata": {},
   "outputs": [],
   "source": []
  },
  {
   "cell_type": "code",
   "execution_count": null,
   "id": "13f01f16",
   "metadata": {},
   "outputs": [],
   "source": []
  }
 ],
 "metadata": {
  "kernelspec": {
   "display_name": "Python 3 (ipykernel)",
   "language": "python",
   "name": "python3"
  },
  "language_info": {
   "codemirror_mode": {
    "name": "ipython",
    "version": 3
   },
   "file_extension": ".py",
   "mimetype": "text/x-python",
   "name": "python",
   "nbconvert_exporter": "python",
   "pygments_lexer": "ipython3",
   "version": "3.9.7"
  }
 },
 "nbformat": 4,
 "nbformat_minor": 5
}
